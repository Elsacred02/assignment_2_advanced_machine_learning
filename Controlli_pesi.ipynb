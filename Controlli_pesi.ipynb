{
  "nbformat": 4,
  "nbformat_minor": 0,
  "metadata": {
    "colab": {
      "provenance": [],
      "include_colab_link": true
    },
    "kernelspec": {
      "name": "python3",
      "display_name": "Python 3"
    },
    "language_info": {
      "name": "python"
    }
  },
  "cells": [
    {
      "cell_type": "markdown",
      "metadata": {
        "id": "view-in-github",
        "colab_type": "text"
      },
      "source": [
        "<a href=\"https://colab.research.google.com/github/Elsacred02/assignment_2_advanced_machine_learning/blob/main/Controlli_pesi.ipynb\" target=\"_parent\"><img src=\"https://colab.research.google.com/assets/colab-badge.svg\" alt=\"Open In Colab\"/></a>"
      ]
    },
    {
      "cell_type": "code",
      "execution_count": 3,
      "metadata": {
        "id": "qGNQ_A0HfVgR",
        "colab": {
          "base_uri": "https://localhost:8080/"
        },
        "outputId": "92385e35-3b2d-479e-84ec-26407302b583"
      },
      "outputs": [
        {
          "output_type": "stream",
          "name": "stdout",
          "text": [
            "\n",
            "📘 Layer: dense\n",
            "  Pesi shape: (784, 512)\n",
            "  Bias shape: (512,)\n",
            "  Media pesi: -0.5215\n",
            "  Max pesi: 18.1246\n",
            "  Min pesi: -15.7601\n",
            "\n",
            "📘 Layer: dense_1\n",
            "  Pesi shape: (512, 128)\n",
            "  Bias shape: (128,)\n",
            "  Media pesi: -0.2138\n",
            "  Max pesi: 4.8234\n",
            "  Min pesi: -4.7987\n",
            "\n",
            "📘 Layer: dense_2\n",
            "  Pesi shape: (128, 64)\n",
            "  Bias shape: (64,)\n",
            "  Media pesi: -0.2322\n",
            "  Max pesi: 3.4061\n",
            "  Min pesi: -4.1597\n",
            "\n",
            "📘 Layer: dense_3\n",
            "  Pesi shape: (64, 10)\n",
            "  Bias shape: (10,)\n",
            "  Media pesi: 0.1638\n",
            "  Max pesi: 3.7242\n",
            "  Min pesi: -6.9107\n"
          ]
        }
      ],
      "source": [
        "import h5py\n",
        "import numpy as np\n",
        "\n",
        "with h5py.File(\"problem_one.weights.h5\", \"r\") as f:\n",
        "    for layer_name in f[\"layers\"]:\n",
        "        layer_group = f[\"layers\"][layer_name]\n",
        "        print(f\"\\n📘 Layer: {layer_name}\")\n",
        "\n",
        "        if \"vars\" in layer_group:\n",
        "            vars_group = layer_group[\"vars\"]\n",
        "\n",
        "            # In genere 0 = pesi, 1 = bias\n",
        "            weights = np.array(vars_group[\"0\"])\n",
        "            bias = np.array(vars_group[\"1\"])\n",
        "\n",
        "            print(f\"  Pesi shape: {weights.shape}\")\n",
        "            print(f\"  Bias shape: {bias.shape}\")\n",
        "            print(f\"  Media pesi: {weights.mean():.4f}\")\n",
        "            print(f\"  Max pesi: {weights.max():.4f}\")\n",
        "            print(f\"  Min pesi: {weights.min():.4f}\")\n"
      ]
    },
    {
      "cell_type": "code",
      "source": [
        "with h5py.File(\"problem2.weights.h5\", \"r\") as f:\n",
        "    for layer_name in f[\"layers\"]:\n",
        "        layer_group = f[\"layers\"][layer_name]\n",
        "        print(f\"\\n📘 Layer: {layer_name}\")\n",
        "\n",
        "        if \"vars\" in layer_group:\n",
        "            vars_group = layer_group[\"vars\"]\n",
        "\n",
        "            # In genere 0 = pesi, 1 = bias\n",
        "            weights = np.array(vars_group[\"0\"])\n",
        "            bias = np.array(vars_group[\"1\"])\n",
        "\n",
        "            print(f\"  Pesi shape: {weights.shape}\")\n",
        "            print(f\"  Bias shape: {bias.shape}\")\n",
        "            print(f\"  Media pesi: {weights.mean():.4f}\")\n",
        "            print(f\"  Max pesi: {weights.max():.4f}\")\n",
        "            print(f\"  Min pesi: {weights.min():.4f}\")"
      ],
      "metadata": {
        "id": "3ffxUaVGh2vc",
        "outputId": "ba4ce55d-570e-4fb4-c5ba-884332757210",
        "colab": {
          "base_uri": "https://localhost:8080/"
        }
      },
      "execution_count": 4,
      "outputs": [
        {
          "output_type": "stream",
          "name": "stdout",
          "text": [
            "\n",
            "📘 Layer: dense\n",
            "  Pesi shape: (3072, 4096)\n",
            "  Bias shape: (4096,)\n",
            "  Media pesi: -0.0057\n",
            "  Max pesi: 0.7407\n",
            "  Min pesi: -0.6856\n",
            "\n",
            "📘 Layer: dense_1\n",
            "  Pesi shape: (4096, 2048)\n",
            "  Bias shape: (2048,)\n",
            "  Media pesi: -0.0017\n",
            "  Max pesi: 0.6511\n",
            "  Min pesi: -0.9469\n",
            "\n",
            "📘 Layer: dense_2\n",
            "  Pesi shape: (2048, 1024)\n",
            "  Bias shape: (1024,)\n",
            "  Media pesi: -0.0084\n",
            "  Max pesi: 0.6056\n",
            "  Min pesi: -0.8248\n",
            "\n",
            "📘 Layer: dense_3\n",
            "  Pesi shape: (1024, 1024)\n",
            "  Bias shape: (1024,)\n",
            "  Media pesi: -0.0184\n",
            "  Max pesi: 0.6028\n",
            "  Min pesi: -0.7293\n",
            "\n",
            "📘 Layer: dense_4\n",
            "  Pesi shape: (1024, 512)\n",
            "  Bias shape: (512,)\n",
            "  Media pesi: -0.0164\n",
            "  Max pesi: 0.6704\n",
            "  Min pesi: -0.6380\n",
            "\n",
            "📘 Layer: dense_5\n",
            "  Pesi shape: (512, 256)\n",
            "  Bias shape: (256,)\n",
            "  Media pesi: -0.0077\n",
            "  Max pesi: 0.5589\n",
            "  Min pesi: -0.5369\n",
            "\n",
            "📘 Layer: dense_6\n",
            "  Pesi shape: (256, 10)\n",
            "  Bias shape: (10,)\n",
            "  Media pesi: -0.0345\n",
            "  Max pesi: 0.3178\n",
            "  Min pesi: -0.6331\n"
          ]
        }
      ]
    },
    {
      "cell_type": "code",
      "source": [
        "with h5py.File(\"problem2.weights.h5\", \"r\") as f:\n",
        "    for layer_name in f[\"layers\"]:\n",
        "        layer_group = f[\"layers\"][layer_name]\n",
        "        print(f\"\\n📘 Layer: {layer_name}\")\n",
        "\n",
        "        if \"vars\" in layer_group:\n",
        "            vars_group = layer_group[\"vars\"]\n",
        "\n",
        "            # In genere 0 = pesi, 1 = bias\n",
        "            weights = np.array(vars_group[\"0\"])\n",
        "            bias = np.array(vars_group[\"1\"])\n",
        "\n",
        "            print(f\"  Pesi shape: {weights.shape}\")\n",
        "            print(f\"  Bias shape: {bias.shape}\")\n",
        "            print(f\"  Media pesi: {weights.mean():.4f}\")\n",
        "            print(f\"  Max pesi: {weights.max():.4f}\")\n",
        "            print(f\"  Min pesi: {weights.min():.4f}\")"
      ],
      "metadata": {
        "id": "zKbAbQh1kkmx",
        "outputId": "a2df8d63-95c8-4dec-95a3-d96fa21ba725",
        "colab": {
          "base_uri": "https://localhost:8080/"
        }
      },
      "execution_count": 5,
      "outputs": [
        {
          "output_type": "stream",
          "name": "stdout",
          "text": [
            "\n",
            "📘 Layer: dense\n",
            "  Pesi shape: (3072, 4096)\n",
            "  Bias shape: (4096,)\n",
            "  Media pesi: -0.0057\n",
            "  Max pesi: 0.7407\n",
            "  Min pesi: -0.6856\n",
            "\n",
            "📘 Layer: dense_1\n",
            "  Pesi shape: (4096, 2048)\n",
            "  Bias shape: (2048,)\n",
            "  Media pesi: -0.0017\n",
            "  Max pesi: 0.6511\n",
            "  Min pesi: -0.9469\n",
            "\n",
            "📘 Layer: dense_2\n",
            "  Pesi shape: (2048, 1024)\n",
            "  Bias shape: (1024,)\n",
            "  Media pesi: -0.0084\n",
            "  Max pesi: 0.6056\n",
            "  Min pesi: -0.8248\n",
            "\n",
            "📘 Layer: dense_3\n",
            "  Pesi shape: (1024, 1024)\n",
            "  Bias shape: (1024,)\n",
            "  Media pesi: -0.0184\n",
            "  Max pesi: 0.6028\n",
            "  Min pesi: -0.7293\n",
            "\n",
            "📘 Layer: dense_4\n",
            "  Pesi shape: (1024, 512)\n",
            "  Bias shape: (512,)\n",
            "  Media pesi: -0.0164\n",
            "  Max pesi: 0.6704\n",
            "  Min pesi: -0.6380\n",
            "\n",
            "📘 Layer: dense_5\n",
            "  Pesi shape: (512, 256)\n",
            "  Bias shape: (256,)\n",
            "  Media pesi: -0.0077\n",
            "  Max pesi: 0.5589\n",
            "  Min pesi: -0.5369\n",
            "\n",
            "📘 Layer: dense_6\n",
            "  Pesi shape: (256, 10)\n",
            "  Bias shape: (10,)\n",
            "  Media pesi: -0.0345\n",
            "  Max pesi: 0.3178\n",
            "  Min pesi: -0.6331\n"
          ]
        }
      ]
    }
  ]
}